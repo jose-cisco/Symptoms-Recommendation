{
 "cells": [
  {
   "cell_type": "markdown",
   "metadata": {
    "id": "_E4BmVTM33Da"
   },
   "source": [
    "**Connect Through SQLite Database**"
   ]
  },
  {
   "cell_type": "code",
   "execution_count": 1,
   "metadata": {
    "id": "LQ35I50gfyx9"
   },
   "outputs": [],
   "source": [
    "import sqlite3\n",
    "import pandas as pd\n",
    "import numpy as np \n",
    "import warnings\n",
    "warnings.filterwarnings('ignore')\n",
    "from sklearn.preprocessing import MinMaxScaler\n",
    "from mlxtend.frequent_patterns import apriori\n",
    "from mlxtend.frequent_patterns import association_rules"
   ]
  },
  {
   "cell_type": "code",
   "execution_count": 2,
   "metadata": {},
   "outputs": [],
   "source": [
    "#Establish a connection\n",
    "connection = sqlite3.connect('AI_Symptomps_Note.db')\n",
    "# Create a cursor object\n",
    "cursor = connection.cursor()"
   ]
  },
  {
   "cell_type": "code",
   "execution_count": 3,
   "metadata": {},
   "outputs": [
    {
     "name": "stdout",
     "output_type": "stream",
     "text": [
      "                         search_term  \\\n",
      "0              เสมหะไหลลงคอ, มีเสมหะ   \n",
      "1                    บวม, ปวดข้อเท้า   \n",
      "2  หายใจมีเสียงวี๊ด, หายใจหอบเหนื่อย   \n",
      "3                         ปวดหัว, ชา   \n",
      "4                            ไข้, ไอ   \n",
      "\n",
      "                                 symptoms_note_clean  \n",
      "0                  ลักษณะ เสมหะเปลี่ยนสีเหลือง/เขียว  \n",
      "1  ตำแหน่ง บวมที่ข้อ เช่น ข้อเข่า ข้อเท้า, ระดับ ...  \n",
      "2  ระดับ เหนื่อยเล็กน้อย เหนื่อยง่ายขึ้นเวลาออกแร...  \n",
      "3  ระดับ ปวดเล็กน้อย ส่งผลต่อการดำเนินกิจวัตรประจ...  \n",
      "4                        3 วัน, ระดับ ไข้ปานกลาง (38  \n"
     ]
    }
   ],
   "source": [
    "# Fetch data from the database\n",
    "query = \"SELECT * FROM df_filtered\"\n",
    "data = pd.read_sql_query(query, connection)\n",
    "# Display the first few rows of the dataframe\n",
    "print(data.head())"
   ]
  },
  {
   "cell_type": "code",
   "execution_count": 4,
   "metadata": {},
   "outputs": [
    {
     "data": {
      "text/html": [
       "<div>\n",
       "<style scoped>\n",
       "    .dataframe tbody tr th:only-of-type {\n",
       "        vertical-align: middle;\n",
       "    }\n",
       "\n",
       "    .dataframe tbody tr th {\n",
       "        vertical-align: top;\n",
       "    }\n",
       "\n",
       "    .dataframe thead th {\n",
       "        text-align: right;\n",
       "    }\n",
       "</style>\n",
       "<table border=\"1\" class=\"dataframe\">\n",
       "  <thead>\n",
       "    <tr style=\"text-align: right;\">\n",
       "      <th></th>\n",
       "      <th>search_term</th>\n",
       "      <th>symptoms_note_clean</th>\n",
       "    </tr>\n",
       "  </thead>\n",
       "  <tbody>\n",
       "    <tr>\n",
       "      <th>0</th>\n",
       "      <td>เสมหะไหลลงคอ, มีเสมหะ</td>\n",
       "      <td>ลักษณะ เสมหะเปลี่ยนสีเหลือง/เขียว</td>\n",
       "    </tr>\n",
       "    <tr>\n",
       "      <th>1</th>\n",
       "      <td>บวม, ปวดข้อเท้า</td>\n",
       "      <td>ตำแหน่ง บวมที่ข้อ เช่น ข้อเข่า ข้อเท้า, ระดับ ...</td>\n",
       "    </tr>\n",
       "    <tr>\n",
       "      <th>2</th>\n",
       "      <td>หายใจมีเสียงวี๊ด, หายใจหอบเหนื่อย</td>\n",
       "      <td>ระดับ เหนื่อยเล็กน้อย เหนื่อยง่ายขึ้นเวลาออกแร...</td>\n",
       "    </tr>\n",
       "    <tr>\n",
       "      <th>3</th>\n",
       "      <td>ปวดหัว, ชา</td>\n",
       "      <td>ระดับ ปวดเล็กน้อย ส่งผลต่อการดำเนินกิจวัตรประจ...</td>\n",
       "    </tr>\n",
       "    <tr>\n",
       "      <th>4</th>\n",
       "      <td>ไข้, ไอ</td>\n",
       "      <td>3 วัน, ระดับ ไข้ปานกลาง (38</td>\n",
       "    </tr>\n",
       "    <tr>\n",
       "      <th>...</th>\n",
       "      <td>...</td>\n",
       "      <td>...</td>\n",
       "    </tr>\n",
       "    <tr>\n",
       "      <th>107</th>\n",
       "      <td>ไข้</td>\n",
       "      <td>3 วัน, ระดับ ไข้ต่ำ (37</td>\n",
       "    </tr>\n",
       "    <tr>\n",
       "      <th>108</th>\n",
       "      <td>ตัวร้อน, ไข้</td>\n",
       "      <td>7 วัน, ระดับ ไข้ปานกลาง (38</td>\n",
       "    </tr>\n",
       "    <tr>\n",
       "      <th>109</th>\n",
       "      <td>ร้อนวูบวาบ, ตัวร้อน</td>\n",
       "      <td>3 วัน, ระดับ ไข้ต่ำ (37</td>\n",
       "    </tr>\n",
       "    <tr>\n",
       "      <th>110</th>\n",
       "      <td>ไข้</td>\n",
       "      <td>3 วัน, ระดับ ไข้ต่ำ (37</td>\n",
       "    </tr>\n",
       "    <tr>\n",
       "      <th>111</th>\n",
       "      <td>ไข้</td>\n",
       "      <td>3 วัน, ระดับ ไข้ต่ำ (37</td>\n",
       "    </tr>\n",
       "  </tbody>\n",
       "</table>\n",
       "<p>112 rows × 2 columns</p>\n",
       "</div>"
      ],
      "text/plain": [
       "                           search_term  \\\n",
       "0                เสมหะไหลลงคอ, มีเสมหะ   \n",
       "1                      บวม, ปวดข้อเท้า   \n",
       "2    หายใจมีเสียงวี๊ด, หายใจหอบเหนื่อย   \n",
       "3                           ปวดหัว, ชา   \n",
       "4                              ไข้, ไอ   \n",
       "..                                 ...   \n",
       "107                                ไข้   \n",
       "108                       ตัวร้อน, ไข้   \n",
       "109                ร้อนวูบวาบ, ตัวร้อน   \n",
       "110                                ไข้   \n",
       "111                                ไข้   \n",
       "\n",
       "                                   symptoms_note_clean  \n",
       "0                    ลักษณะ เสมหะเปลี่ยนสีเหลือง/เขียว  \n",
       "1    ตำแหน่ง บวมที่ข้อ เช่น ข้อเข่า ข้อเท้า, ระดับ ...  \n",
       "2    ระดับ เหนื่อยเล็กน้อย เหนื่อยง่ายขึ้นเวลาออกแร...  \n",
       "3    ระดับ ปวดเล็กน้อย ส่งผลต่อการดำเนินกิจวัตรประจ...  \n",
       "4                          3 วัน, ระดับ ไข้ปานกลาง (38  \n",
       "..                                                 ...  \n",
       "107                            3 วัน, ระดับ ไข้ต่ำ (37  \n",
       "108                        7 วัน, ระดับ ไข้ปานกลาง (38  \n",
       "109                            3 วัน, ระดับ ไข้ต่ำ (37  \n",
       "110                            3 วัน, ระดับ ไข้ต่ำ (37  \n",
       "111                            3 วัน, ระดับ ไข้ต่ำ (37  \n",
       "\n",
       "[112 rows x 2 columns]"
      ]
     },
     "execution_count": 4,
     "metadata": {},
     "output_type": "execute_result"
    }
   ],
   "source": [
    "Symptoms = data\n",
    "Symptoms"
   ]
  },
  {
   "cell_type": "code",
   "execution_count": 5,
   "metadata": {
    "colab": {
     "base_uri": "https://localhost:8080/",
     "height": 206
    },
    "id": "ynupmvV7meFD",
    "outputId": "e6b7c62b-ff8d-4a26-8663-b0fd5d4ba150"
   },
   "outputs": [
    {
     "data": {
      "text/html": [
       "<div>\n",
       "<style scoped>\n",
       "    .dataframe tbody tr th:only-of-type {\n",
       "        vertical-align: middle;\n",
       "    }\n",
       "\n",
       "    .dataframe tbody tr th {\n",
       "        vertical-align: top;\n",
       "    }\n",
       "\n",
       "    .dataframe thead th {\n",
       "        text-align: right;\n",
       "    }\n",
       "</style>\n",
       "<table border=\"1\" class=\"dataframe\">\n",
       "  <thead>\n",
       "    <tr style=\"text-align: right;\">\n",
       "      <th></th>\n",
       "      <th>search_term</th>\n",
       "      <th>symptoms_note_clean</th>\n",
       "    </tr>\n",
       "  </thead>\n",
       "  <tbody>\n",
       "    <tr>\n",
       "      <th>0</th>\n",
       "      <td>เสมหะไหลลงคอ, มีเสมหะ</td>\n",
       "      <td>ลักษณะ เสมหะเปลี่ยนสีเหลือง/เขียว</td>\n",
       "    </tr>\n",
       "    <tr>\n",
       "      <th>1</th>\n",
       "      <td>บวม, ปวดข้อเท้า</td>\n",
       "      <td>ตำแหน่ง บวมที่ข้อ เช่น ข้อเข่า ข้อเท้า, ระดับ ...</td>\n",
       "    </tr>\n",
       "    <tr>\n",
       "      <th>2</th>\n",
       "      <td>หายใจมีเสียงวี๊ด, หายใจหอบเหนื่อย</td>\n",
       "      <td>ระดับ เหนื่อยเล็กน้อย เหนื่อยง่ายขึ้นเวลาออกแร...</td>\n",
       "    </tr>\n",
       "    <tr>\n",
       "      <th>3</th>\n",
       "      <td>ปวดหัว, ชา</td>\n",
       "      <td>ระดับ ปวดเล็กน้อย ส่งผลต่อการดำเนินกิจวัตรประจ...</td>\n",
       "    </tr>\n",
       "    <tr>\n",
       "      <th>4</th>\n",
       "      <td>ไข้, ไอ</td>\n",
       "      <td>3 วัน, ระดับ ไข้ปานกลาง (38</td>\n",
       "    </tr>\n",
       "  </tbody>\n",
       "</table>\n",
       "</div>"
      ],
      "text/plain": [
       "                         search_term  \\\n",
       "0              เสมหะไหลลงคอ, มีเสมหะ   \n",
       "1                    บวม, ปวดข้อเท้า   \n",
       "2  หายใจมีเสียงวี๊ด, หายใจหอบเหนื่อย   \n",
       "3                         ปวดหัว, ชา   \n",
       "4                            ไข้, ไอ   \n",
       "\n",
       "                                 symptoms_note_clean  \n",
       "0                  ลักษณะ เสมหะเปลี่ยนสีเหลือง/เขียว  \n",
       "1  ตำแหน่ง บวมที่ข้อ เช่น ข้อเข่า ข้อเท้า, ระดับ ...  \n",
       "2  ระดับ เหนื่อยเล็กน้อย เหนื่อยง่ายขึ้นเวลาออกแร...  \n",
       "3  ระดับ ปวดเล็กน้อย ส่งผลต่อการดำเนินกิจวัตรประจ...  \n",
       "4                        3 วัน, ระดับ ไข้ปานกลาง (38  "
      ]
     },
     "execution_count": 5,
     "metadata": {},
     "output_type": "execute_result"
    }
   ],
   "source": [
    "Symptoms.head()"
   ]
  },
  {
   "cell_type": "markdown",
   "metadata": {
    "id": "GPial8Uq1KpB"
   },
   "source": [
    "# **Association Rules** For extracting relevant symptoms and match them with symptom set"
   ]
  },
  {
   "cell_type": "code",
   "execution_count": 6,
   "metadata": {},
   "outputs": [],
   "source": [
    "def preprocess_symptoms(Symptoms):\n",
    "    # Handle NaN values in symptoms_note\n",
    "    Symptoms['symptoms_note_clean'] = Symptoms['symptoms_note_clean'].fillna('')\n",
    "    \n",
    "    # Split symptoms into list\n",
    "    Symptoms['symptoms_list'] = Symptoms['symptoms_note_clean'].str.split(',')\n",
    "    \n",
    "    # Get unique symptoms - filter out empty strings and None values\n",
    "    all_symptoms = set()\n",
    "    for symptoms in Symptoms['symptoms_list']:\n",
    "        if isinstance(symptoms, list):\n",
    "            # Strip whitespace and filter out empty strings\n",
    "            cleaned_symptoms = [s.strip() for s in symptoms if s and s.strip()]\n",
    "            all_symptoms.update(cleaned_symptoms)\n",
    "    \n",
    "    # Create one-hot vectors manually\n",
    "    symptoms_encoded = pd.DataFrame(0, index=Symptoms.index, columns=list(all_symptoms))\n",
    "    \n",
    "    for idx, symptoms in enumerate(Symptoms['symptoms_list']):\n",
    "        if isinstance(symptoms, list):\n",
    "            for symptom in symptoms:\n",
    "                # Only process non-empty symptoms\n",
    "                if symptom and symptom.strip():\n",
    "                    symptoms_encoded.loc[idx, symptom.strip()] = 1\n",
    "    \n",
    "    # Handle any remaining NaN values\n",
    "    symptoms_encoded = symptoms_encoded.fillna(0)\n",
    "    \n",
    "    # Apply min-max scaling\n",
    "    scaler = MinMaxScaler()\n",
    "    symptoms_scaled = pd.DataFrame(\n",
    "        scaler.fit_transform(symptoms_encoded),\n",
    "        columns=symptoms_encoded.columns\n",
    "    )\n",
    "    \n",
    "    return symptoms_scaled"
   ]
  },
  {
   "cell_type": "code",
   "execution_count": 7,
   "metadata": {},
   "outputs": [],
   "source": [
    "def generate_association_rules(symptoms_encoded, min_support=0.2, min_confidence=0.8):\n",
    "    # Find frequent itemsets\n",
    "    frequent_itemsets = apriori(symptoms_encoded, \n",
    "                              min_support=min_support, \n",
    "                              use_colnames=True)\n",
    "    \n",
    "    # Generate rules\n",
    "    rules = association_rules(frequent_itemsets, \n",
    "                            metric=\"confidence\", \n",
    "                            min_threshold=min_confidence)\n",
    "    \n",
    "    return rules"
   ]
  },
  {
   "cell_type": "code",
   "execution_count": 8,
   "metadata": {},
   "outputs": [],
   "source": [
    "def select_features(rules, symptoms_encoded, top_n=10):\n",
    "    # Select features based on lift score\n",
    "    important_features = rules.nlargest(top_n, 'lift')\n",
    "    selected_features = set()\n",
    "    \n",
    "    for _, row in important_features.iterrows():\n",
    "        selected_features.update(row['antecedents'])\n",
    "        selected_features.update(row['consequents'])\n",
    "    \n",
    "    return symptoms_encoded[list(selected_features)]"
   ]
  },
  {
   "cell_type": "code",
   "execution_count": 9,
   "metadata": {},
   "outputs": [],
   "source": [
    "# Main implementation\n",
    "def implement_symptom_analysis(Symptoms):\n",
    "    # Preprocess the data\n",
    "    symptoms_encoded = preprocess_symptoms(Symptoms).astype(bool)\n",
    "    \n",
    "    # Generate association rules\n",
    "    rules = generate_association_rules(symptoms_encoded)\n",
    "    \n",
    "    # Select important features\n",
    "    selected_features = select_features(rules, symptoms_encoded)\n",
    "    \n",
    "    print(\"Shape of encoded symptoms:\", symptoms_encoded.shape)\n",
    "    print(\"\\nNumber of association rules generated:\", len(rules))\n",
    "    print(\"\\nTop features by lift score:\", list(selected_features.columns))\n",
    "    \n",
    "    return rules, selected_features"
   ]
  },
  {
   "cell_type": "code",
   "execution_count": 10,
   "metadata": {},
   "outputs": [
    {
     "name": "stdout",
     "output_type": "stream",
     "text": [
      "Shape of encoded symptoms: (112, 91)\n",
      "\n",
      "Number of association rules generated: 1\n",
      "\n",
      "Top features by lift score: ['ระดับ ไข้ต่ำ (37', '3 วัน']\n"
     ]
    },
    {
     "name": "stderr",
     "output_type": "stream",
     "text": [
      "c:\\Users\\pc\\anaconda3\\envs\\Symptoms_Recoomendation\\Lib\\site-packages\\pandas\\core\\dtypes\\cast.py:1641: DeprecationWarning: np.find_common_type is deprecated.  Please use `np.result_type` or `np.promote_types`.\n",
      "See https://numpy.org/devdocs/release/1.25.0-notes.html and the docs for more information.  (Deprecated NumPy 1.25)\n",
      "  return np.find_common_type(types, [])\n"
     ]
    }
   ],
   "source": [
    "# Example usage\n",
    "rules, selected_features = implement_symptom_analysis(Symptoms)"
   ]
  },
  {
   "cell_type": "code",
   "execution_count": 11,
   "metadata": {},
   "outputs": [],
   "source": [
    "def find_associated_symptoms(input_symptom, Symptoms):\n",
    "    \"\"\"\n",
    "    Find associated symptoms for a specific symptom.\n",
    "    Returns a list of associated symptoms (strings). Empty list if none found.\n",
    "    \"\"\"\n",
    "    # Clean and prepare the data\n",
    "    symptoms_pairs = Symptoms[['symptoms_note_clean', 'search_term']].dropna()\n",
    "\n",
    "    # Find rows that match the input symptom in either column (case-insensitive)\n",
    "    mask = (\n",
    "        symptoms_pairs['search_term'].str.contains(input_symptom, case=False, na=False) |\n",
    "        symptoms_pairs['symptoms_note_clean'].str.contains(input_symptom, case=False, na=False)\n",
    "    )\n",
    "    matching_rows = symptoms_pairs[mask]\n",
    "\n",
    "    if matching_rows.empty:\n",
    "        return []\n",
    "\n",
    "    # Collect associated symptoms from all matching rows\n",
    "    associated = []\n",
    "    for _, row in matching_rows.iterrows():\n",
    "        raw = str(row['symptoms_note_clean'])\n",
    "        parts = [p.strip() for p in raw.split(',') if p.strip()]\n",
    "        associated.extend(parts)\n",
    "\n",
    "    # Remove the input symptom itself (case-insensitive match)\n",
    "    input_lower = input_symptom.lower()\n",
    "    unique_associated = []\n",
    "    seen = set()\n",
    "    for s in associated:\n",
    "        if s is None:\n",
    "            continue\n",
    "        s_clean = s.strip()\n",
    "        if s_clean == \"\":\n",
    "            continue\n",
    "        if input_lower != s_clean.lower() and s_clean.lower() not in seen:\n",
    "            unique_associated.append(s_clean)\n",
    "            seen.add(s_clean.lower())\n",
    "\n",
    "    print(f\"\\nResults for '{input_symptom}':\")\n",
    "    print(\"Associated symptoms:\")\n",
    "    for symptom in unique_associated:\n",
    "        print(f\"- {symptom}\")\n",
    "    print(\"-\" * 50)\n",
    "\n",
    "    return unique_associated"
   ]
  },
  {
   "cell_type": "code",
   "execution_count": 12,
   "metadata": {},
   "outputs": [
    {
     "name": "stdout",
     "output_type": "stream",
     "text": [
      "\n",
      "Case 1: ไอ, มีเสมหะคัดจมูก\n",
      "\n",
      "Results for 'ไอ, มีเสมหะคัดจมูก':\n",
      "Associated symptoms:\n",
      "- 3 สัปดาห์\n",
      "- ลักษณะ ไอไม่มีเสมหะ ไอแห้งๆ หรือไอเสมหะสีขาว\n",
      "--------------------------------------------------\n"
     ]
    }
   ],
   "source": [
    "print(\"\\nCase 1: ไอ, มีเสมหะคัดจมูก\")\n",
    "case1 = find_associated_symptoms('ไอ, มีเสมหะคัดจมูก', Symptoms)"
   ]
  },
  {
   "cell_type": "code",
   "execution_count": 13,
   "metadata": {},
   "outputs": [
    {
     "name": "stdout",
     "output_type": "stream",
     "text": [
      "\n",
      "Case 2: ปวดเมื่อยกล้ามเนื้อทั่วๆ, ปวดคอปวดหัวไหล่\n",
      "\n",
      "Results for 'ปวดเมื่อยกล้ามเนื้อทั่วๆ, ปวดคอปวดหัวไหล่':\n",
      "Associated symptoms:\n",
      "- ร้าว ร้าวไปศีรษะ\n",
      "- ชามือหรือแขน ไม่ชา\n",
      "- อ่อนแรง ไม่อ่อนแรง\n",
      "- ระดับ ปวดเล็กน้อย ส่งผลต่อการดำเนินกิจวัตรประจำวันบ้าง\n",
      "--------------------------------------------------\n"
     ]
    }
   ],
   "source": [
    "print(\"\\nCase 2: ปวดเมื่อยกล้ามเนื้อทั่วๆ, ปวดคอปวดหัวไหล่\")\n",
    "case2 = find_associated_symptoms('ปวดเมื่อยกล้ามเนื้อทั่วๆ, ปวดคอปวดหัวไหล่', Symptoms)"
   ]
  },
  {
   "cell_type": "code",
   "execution_count": 14,
   "metadata": {},
   "outputs": [
    {
     "name": "stdout",
     "output_type": "stream",
     "text": [
      "\n",
      "Case 3: ปวดตา, ตาบวม\n",
      "\n",
      "Results for 'ปวดตา, ตาบวม':\n",
      "Associated symptoms:\n",
      "- ระดับ ปวดเล็กน้อย ส่งผลต่อการดำเนินกิจวัตรประจำวันบ้าง\n",
      "- ข้าง ตาเดียว\n",
      "--------------------------------------------------\n"
     ]
    }
   ],
   "source": [
    "print(\"\\nCase 3: ปวดตา, ตาบวม\")\n",
    "case3 = find_associated_symptoms('ปวดตา, ตาบวม', Symptoms)"
   ]
  },
  {
   "cell_type": "code",
   "execution_count": 15,
   "metadata": {},
   "outputs": [
    {
     "name": "stdout",
     "output_type": "stream",
     "text": [
      "\n",
      "Case 4: back pain\n",
      "\n",
      "Results for 'back pain':\n",
      "Associated symptoms:\n",
      "- Location midline lower back\n",
      "- pain to the thigh\n",
      "- numbness yes\n",
      "- weakness no\n",
      "- Severity Moderate\n",
      "- pain none\n",
      "- arm or hand numbness no\n",
      "- weakness yes\n",
      "- Severity Moderate unable to continue with your work\n",
      "- Location lower paraspinal (muscles closely surround the spine)\n",
      "--------------------------------------------------\n"
     ]
    }
   ],
   "source": [
    "print(\"\\nCase 4: back pain\")\n",
    "case4 = find_associated_symptoms('back pain', Symptoms)"
   ]
  },
  {
   "cell_type": "code",
   "execution_count": 16,
   "metadata": {},
   "outputs": [
    {
     "name": "stdout",
     "output_type": "stream",
     "text": [
      "\n",
      "Case 5: Fever\n",
      "\n",
      "Results for 'Fever':\n",
      "Associated symptoms:\n",
      "- 3weeks\n",
      "- types Yellowish/greenish phlegm\n",
      "- Severity Moderate\n",
      "--------------------------------------------------\n"
     ]
    }
   ],
   "source": [
    "print(\"\\nCase 5: Fever\")\n",
    "case5 = find_associated_symptoms('Fever', Symptoms)"
   ]
  },
  {
   "cell_type": "code",
   "execution_count": 17,
   "metadata": {},
   "outputs": [
    {
     "name": "stdout",
     "output_type": "stream",
     "text": [
      "\n",
      "Case 6: stomachache, diarrhea\n",
      "\n",
      "Results for 'stomachache, diarrhea':\n",
      "Associated symptoms:\n",
      "- location All over\n",
      "- duration less than a day\n",
      "- severity mild\n",
      "- characteristic loose/watery\n",
      "--------------------------------------------------\n"
     ]
    }
   ],
   "source": [
    "print(\"\\nCase 6: stomachache, diarrhea\")\n",
    "case6 = find_associated_symptoms('stomachache, diarrhea', Symptoms)"
   ]
  }
 ],
 "metadata": {
  "colab": {
   "provenance": []
  },
  "kernelspec": {
   "display_name": "Symptoms_Recoomendation",
   "language": "python",
   "name": "python3"
  },
  "language_info": {
   "codemirror_mode": {
    "name": "ipython",
    "version": 3
   },
   "file_extension": ".py",
   "mimetype": "text/x-python",
   "name": "python",
   "nbconvert_exporter": "python",
   "pygments_lexer": "ipython3",
   "version": "3.11.13"
  },
  "widgets": {
   "application/vnd.jupyter.widget-state+json": {
    "2aba5a76aa3a4b91ba29f30b54652215": {
     "model_module": "@jupyter-widgets/base",
     "model_module_version": "1.2.0",
     "model_name": "LayoutModel",
     "state": {
      "_model_module": "@jupyter-widgets/base",
      "_model_module_version": "1.2.0",
      "_model_name": "LayoutModel",
      "_view_count": null,
      "_view_module": "@jupyter-widgets/base",
      "_view_module_version": "1.2.0",
      "_view_name": "LayoutView",
      "align_content": null,
      "align_items": null,
      "align_self": null,
      "border": null,
      "bottom": null,
      "display": null,
      "flex": null,
      "flex_flow": null,
      "grid_area": null,
      "grid_auto_columns": null,
      "grid_auto_flow": null,
      "grid_auto_rows": null,
      "grid_column": null,
      "grid_gap": null,
      "grid_row": null,
      "grid_template_areas": null,
      "grid_template_columns": null,
      "grid_template_rows": null,
      "height": null,
      "justify_content": null,
      "justify_items": null,
      "left": null,
      "margin": null,
      "max_height": null,
      "max_width": null,
      "min_height": null,
      "min_width": null,
      "object_fit": null,
      "object_position": null,
      "order": null,
      "overflow": null,
      "overflow_x": null,
      "overflow_y": null,
      "padding": null,
      "right": null,
      "top": null,
      "visibility": "hidden",
      "width": null
     }
    },
    "35bc44066240403081d91b2f61e8f1ab": {
     "model_module": "@jupyter-widgets/controls",
     "model_module_version": "1.5.0",
     "model_name": "FloatProgressModel",
     "state": {
      "_dom_classes": [],
      "_model_module": "@jupyter-widgets/controls",
      "_model_module_version": "1.5.0",
      "_model_name": "FloatProgressModel",
      "_view_count": null,
      "_view_module": "@jupyter-widgets/controls",
      "_view_module_version": "1.5.0",
      "_view_name": "ProgressView",
      "bar_style": "",
      "description": "",
      "description_tooltip": null,
      "layout": "IPY_MODEL_4cfebadf4873456688b81ceb703c1ee0",
      "max": 65,
      "min": 0,
      "orientation": "horizontal",
      "style": "IPY_MODEL_bb86e954fc564fa6a8c7ee702b9fd774",
      "value": 65
     }
    },
    "4cfebadf4873456688b81ceb703c1ee0": {
     "model_module": "@jupyter-widgets/base",
     "model_module_version": "1.2.0",
     "model_name": "LayoutModel",
     "state": {
      "_model_module": "@jupyter-widgets/base",
      "_model_module_version": "1.2.0",
      "_model_name": "LayoutModel",
      "_view_count": null,
      "_view_module": "@jupyter-widgets/base",
      "_view_module_version": "1.2.0",
      "_view_name": "LayoutView",
      "align_content": null,
      "align_items": null,
      "align_self": null,
      "border": null,
      "bottom": null,
      "display": null,
      "flex": null,
      "flex_flow": null,
      "grid_area": null,
      "grid_auto_columns": null,
      "grid_auto_flow": null,
      "grid_auto_rows": null,
      "grid_column": null,
      "grid_gap": null,
      "grid_row": null,
      "grid_template_areas": null,
      "grid_template_columns": null,
      "grid_template_rows": null,
      "height": null,
      "justify_content": null,
      "justify_items": null,
      "left": null,
      "margin": null,
      "max_height": null,
      "max_width": null,
      "min_height": null,
      "min_width": null,
      "object_fit": null,
      "object_position": null,
      "order": null,
      "overflow": null,
      "overflow_x": null,
      "overflow_y": null,
      "padding": null,
      "right": null,
      "top": null,
      "visibility": null,
      "width": null
     }
    },
    "86eaabaf747d472c916482ee7245d1ec": {
     "model_module": "@jupyter-widgets/base",
     "model_module_version": "1.2.0",
     "model_name": "LayoutModel",
     "state": {
      "_model_module": "@jupyter-widgets/base",
      "_model_module_version": "1.2.0",
      "_model_name": "LayoutModel",
      "_view_count": null,
      "_view_module": "@jupyter-widgets/base",
      "_view_module_version": "1.2.0",
      "_view_name": "LayoutView",
      "align_content": null,
      "align_items": null,
      "align_self": null,
      "border": null,
      "bottom": null,
      "display": null,
      "flex": null,
      "flex_flow": null,
      "grid_area": null,
      "grid_auto_columns": null,
      "grid_auto_flow": null,
      "grid_auto_rows": null,
      "grid_column": null,
      "grid_gap": null,
      "grid_row": null,
      "grid_template_areas": null,
      "grid_template_columns": null,
      "grid_template_rows": null,
      "height": null,
      "justify_content": null,
      "justify_items": null,
      "left": null,
      "margin": null,
      "max_height": null,
      "max_width": null,
      "min_height": null,
      "min_width": null,
      "object_fit": null,
      "object_position": null,
      "order": null,
      "overflow": null,
      "overflow_x": null,
      "overflow_y": null,
      "padding": null,
      "right": null,
      "top": null,
      "visibility": null,
      "width": null
     }
    },
    "aa2861555e814698a9ad982ee60d80fe": {
     "model_module": "@jupyter-widgets/controls",
     "model_module_version": "1.5.0",
     "model_name": "DescriptionStyleModel",
     "state": {
      "_model_module": "@jupyter-widgets/controls",
      "_model_module_version": "1.5.0",
      "_model_name": "DescriptionStyleModel",
      "_view_count": null,
      "_view_module": "@jupyter-widgets/base",
      "_view_module_version": "1.2.0",
      "_view_name": "StyleView",
      "description_width": ""
     }
    },
    "b37152eb2e4442e794b9687522dab638": {
     "model_module": "@jupyter-widgets/controls",
     "model_module_version": "1.5.0",
     "model_name": "HBoxModel",
     "state": {
      "_dom_classes": [],
      "_model_module": "@jupyter-widgets/controls",
      "_model_module_version": "1.5.0",
      "_model_name": "HBoxModel",
      "_view_count": null,
      "_view_module": "@jupyter-widgets/controls",
      "_view_module_version": "1.5.0",
      "_view_name": "HBoxView",
      "box_style": "",
      "children": [
       "IPY_MODEL_d0a00d8c2e8942338fe72752e4c333a9",
       "IPY_MODEL_35bc44066240403081d91b2f61e8f1ab",
       "IPY_MODEL_bad3810921e94f7e8d0c54f15bfb5d51"
      ],
      "layout": "IPY_MODEL_2aba5a76aa3a4b91ba29f30b54652215"
     }
    },
    "bad3810921e94f7e8d0c54f15bfb5d51": {
     "model_module": "@jupyter-widgets/controls",
     "model_module_version": "1.5.0",
     "model_name": "HTMLModel",
     "state": {
      "_dom_classes": [],
      "_model_module": "@jupyter-widgets/controls",
      "_model_module_version": "1.5.0",
      "_model_name": "HTMLModel",
      "_view_count": null,
      "_view_module": "@jupyter-widgets/controls",
      "_view_module_version": "1.5.0",
      "_view_name": "HTMLView",
      "description": "",
      "description_tooltip": null,
      "layout": "IPY_MODEL_86eaabaf747d472c916482ee7245d1ec",
      "placeholder": "​",
      "style": "IPY_MODEL_aa2861555e814698a9ad982ee60d80fe",
      "value": " 65/65 [06:46&lt;00:00,  4.04s/it]"
     }
    },
    "bb86e954fc564fa6a8c7ee702b9fd774": {
     "model_module": "@jupyter-widgets/controls",
     "model_module_version": "1.5.0",
     "model_name": "ProgressStyleModel",
     "state": {
      "_model_module": "@jupyter-widgets/controls",
      "_model_module_version": "1.5.0",
      "_model_name": "ProgressStyleModel",
      "_view_count": null,
      "_view_module": "@jupyter-widgets/base",
      "_view_module_version": "1.2.0",
      "_view_name": "StyleView",
      "bar_color": null,
      "description_width": ""
     }
    },
    "d0a00d8c2e8942338fe72752e4c333a9": {
     "model_module": "@jupyter-widgets/controls",
     "model_module_version": "1.5.0",
     "model_name": "HTMLModel",
     "state": {
      "_dom_classes": [],
      "_model_module": "@jupyter-widgets/controls",
      "_model_module_version": "1.5.0",
      "_model_name": "HTMLModel",
      "_view_count": null,
      "_view_module": "@jupyter-widgets/controls",
      "_view_module_version": "1.5.0",
      "_view_name": "HTMLView",
      "description": "",
      "description_tooltip": null,
      "layout": "IPY_MODEL_f646138f75464d519aac476b9d7058bb",
      "placeholder": "​",
      "style": "IPY_MODEL_e7a814382a194baab0c97887e97e1874",
      "value": "Processing: 100%"
     }
    },
    "e7a814382a194baab0c97887e97e1874": {
     "model_module": "@jupyter-widgets/controls",
     "model_module_version": "1.5.0",
     "model_name": "DescriptionStyleModel",
     "state": {
      "_model_module": "@jupyter-widgets/controls",
      "_model_module_version": "1.5.0",
      "_model_name": "DescriptionStyleModel",
      "_view_count": null,
      "_view_module": "@jupyter-widgets/base",
      "_view_module_version": "1.2.0",
      "_view_name": "StyleView",
      "description_width": ""
     }
    },
    "f646138f75464d519aac476b9d7058bb": {
     "model_module": "@jupyter-widgets/base",
     "model_module_version": "1.2.0",
     "model_name": "LayoutModel",
     "state": {
      "_model_module": "@jupyter-widgets/base",
      "_model_module_version": "1.2.0",
      "_model_name": "LayoutModel",
      "_view_count": null,
      "_view_module": "@jupyter-widgets/base",
      "_view_module_version": "1.2.0",
      "_view_name": "LayoutView",
      "align_content": null,
      "align_items": null,
      "align_self": null,
      "border": null,
      "bottom": null,
      "display": null,
      "flex": null,
      "flex_flow": null,
      "grid_area": null,
      "grid_auto_columns": null,
      "grid_auto_flow": null,
      "grid_auto_rows": null,
      "grid_column": null,
      "grid_gap": null,
      "grid_row": null,
      "grid_template_areas": null,
      "grid_template_columns": null,
      "grid_template_rows": null,
      "height": null,
      "justify_content": null,
      "justify_items": null,
      "left": null,
      "margin": null,
      "max_height": null,
      "max_width": null,
      "min_height": null,
      "min_width": null,
      "object_fit": null,
      "object_position": null,
      "order": null,
      "overflow": null,
      "overflow_x": null,
      "overflow_y": null,
      "padding": null,
      "right": null,
      "top": null,
      "visibility": null,
      "width": null
     }
    }
   }
  }
 },
 "nbformat": 4,
 "nbformat_minor": 4
}
