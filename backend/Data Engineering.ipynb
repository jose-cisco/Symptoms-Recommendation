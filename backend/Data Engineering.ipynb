{
 "cells": [
  {
   "cell_type": "code",
   "execution_count": 1,
   "id": "9f019f40",
   "metadata": {},
   "outputs": [],
   "source": [
    "# Step 1: Import necessary libraries\n",
    "import pandas as pd  # For data manipulation\n",
    "import numpy as np  # For numerical operations\n",
    "import re  # For regular expression operations\n",
    "import sqlite3       # For interacting with SQLite databases"
   ]
  },
  {
   "cell_type": "code",
   "execution_count": 2,
   "id": "9b87afea",
   "metadata": {},
   "outputs": [],
   "source": [
    "data = pd.read_csv('[CONFIDENTIAL] AI symptom picker data (Agnos candidate assignment) - ai_symptom_picker - [CONFIDENTIAL] AI symptom picker data (Agnos candidate assignment) - ai_symptom_picker.csv') # Path to the CSV file"
   ]
  },
  {
   "cell_type": "code",
   "execution_count": 3,
   "id": "9743559d",
   "metadata": {},
   "outputs": [
    {
     "data": {
      "text/html": [
       "<div>\n",
       "<style scoped>\n",
       "    .dataframe tbody tr th:only-of-type {\n",
       "        vertical-align: middle;\n",
       "    }\n",
       "\n",
       "    .dataframe tbody tr th {\n",
       "        vertical-align: top;\n",
       "    }\n",
       "\n",
       "    .dataframe thead th {\n",
       "        text-align: right;\n",
       "    }\n",
       "</style>\n",
       "<table border=\"1\" class=\"dataframe\">\n",
       "  <thead>\n",
       "    <tr style=\"text-align: right;\">\n",
       "      <th></th>\n",
       "      <th>gender</th>\n",
       "      <th>age</th>\n",
       "      <th>summary</th>\n",
       "      <th>search_term</th>\n",
       "    </tr>\n",
       "  </thead>\n",
       "  <tbody>\n",
       "    <tr>\n",
       "      <th>0</th>\n",
       "      <td>male</td>\n",
       "      <td>28</td>\n",
       "      <td>{\"diseases\": [], \"procedures\": [], \"no_symptom...</td>\n",
       "      <td>มีเสมหะ, ไอ</td>\n",
       "    </tr>\n",
       "    <tr>\n",
       "      <th>1</th>\n",
       "      <td>male</td>\n",
       "      <td>27</td>\n",
       "      <td>{\"diseases\": [], \"procedures\": [], \"no_symptom...</td>\n",
       "      <td>ไอ, น้ำมูกไหล</td>\n",
       "    </tr>\n",
       "    <tr>\n",
       "      <th>2</th>\n",
       "      <td>female</td>\n",
       "      <td>26</td>\n",
       "      <td>{\"diseases\": [], \"procedures\": [], \"no_symptom...</td>\n",
       "      <td>ปวดท้อง</td>\n",
       "    </tr>\n",
       "    <tr>\n",
       "      <th>3</th>\n",
       "      <td>male</td>\n",
       "      <td>42</td>\n",
       "      <td>{\"diseases\": [], \"procedures\": [], \"no_symptom...</td>\n",
       "      <td>น้ำมูกไหล</td>\n",
       "    </tr>\n",
       "    <tr>\n",
       "      <th>4</th>\n",
       "      <td>female</td>\n",
       "      <td>40</td>\n",
       "      <td>{\"diseases\": [], \"procedures\": [], \"no_symptom...</td>\n",
       "      <td>ตาแห้ง</td>\n",
       "    </tr>\n",
       "  </tbody>\n",
       "</table>\n",
       "</div>"
      ],
      "text/plain": [
       "   gender  age                                            summary  \\\n",
       "0    male   28  {\"diseases\": [], \"procedures\": [], \"no_symptom...   \n",
       "1    male   27  {\"diseases\": [], \"procedures\": [], \"no_symptom...   \n",
       "2  female   26  {\"diseases\": [], \"procedures\": [], \"no_symptom...   \n",
       "3    male   42  {\"diseases\": [], \"procedures\": [], \"no_symptom...   \n",
       "4  female   40  {\"diseases\": [], \"procedures\": [], \"no_symptom...   \n",
       "\n",
       "     search_term  \n",
       "0    มีเสมหะ, ไอ  \n",
       "1  ไอ, น้ำมูกไหล  \n",
       "2        ปวดท้อง  \n",
       "3      น้ำมูกไหล  \n",
       "4         ตาแห้ง  "
      ]
     },
     "execution_count": 3,
     "metadata": {},
     "output_type": "execute_result"
    }
   ],
   "source": [
    "data.head()  # Display the first few rows of the DataFrame"
   ]
  },
  {
   "cell_type": "code",
   "execution_count": 4,
   "id": "ccce7877",
   "metadata": {},
   "outputs": [],
   "source": [
    "data.drop(['gender', 'age'], axis=1, inplace=True)"
   ]
  },
  {
   "cell_type": "code",
   "execution_count": 5,
   "id": "127b34b3",
   "metadata": {},
   "outputs": [],
   "source": [
    "# Step 2 : Extract - extrct only important words\n",
    "def extract_answers(summary):\n",
    "    \"\"\"\n",
    "    Extracts the 'answers' values from the first and second items in the 'yes_symptoms' list.\n",
    "    \"\"\"\n",
    "    try:\n",
    "        data = eval(summary)  # Evaluate the string as a Python dictionary\n",
    "        if isinstance(data, dict) and 'yes_symptoms' in data:\n",
    "            answers = []\n",
    "            # Process only the first two items if available\n",
    "            for symptom in data['yes_symptoms'][0:2]:\n",
    "                if 'answers' in symptom:\n",
    "                    answers.extend(symptom['answers'])\n",
    "            return ', '.join(answers)  # Join the answers with commas\n",
    "        else:\n",
    "            return None  # Return None if the structure is not as expected\n",
    "    except (SyntaxError, TypeError, KeyError):\n",
    "        return None  # Return None if there's an error"
   ]
  },
  {
   "cell_type": "code",
   "execution_count": 6,
   "id": "bacf1345",
   "metadata": {},
   "outputs": [],
   "source": [
    "def process_dataframe(df, summary_col='summary', symptoms_note_col='symptoms_note'):\n",
    "    \"\"\"\n",
    "    Processes a DataFrame to extract 'answers' and create a new 'symptoms_note' column.\n",
    "    \"\"\"\n",
    "    df[symptoms_note_col] = df[summary_col].apply(extract_answers)\n",
    "    return df"
   ]
  },
  {
   "cell_type": "code",
   "execution_count": 7,
   "id": "8bd1724c",
   "metadata": {},
   "outputs": [],
   "source": [
    "Symptoms = process_dataframe(data)"
   ]
  },
  {
   "cell_type": "code",
   "execution_count": 8,
   "id": "fc20ce4f",
   "metadata": {},
   "outputs": [
    {
     "data": {
      "text/html": [
       "<div>\n",
       "<style scoped>\n",
       "    .dataframe tbody tr th:only-of-type {\n",
       "        vertical-align: middle;\n",
       "    }\n",
       "\n",
       "    .dataframe tbody tr th {\n",
       "        vertical-align: top;\n",
       "    }\n",
       "\n",
       "    .dataframe thead th {\n",
       "        text-align: right;\n",
       "    }\n",
       "</style>\n",
       "<table border=\"1\" class=\"dataframe\">\n",
       "  <thead>\n",
       "    <tr style=\"text-align: right;\">\n",
       "      <th></th>\n",
       "      <th>summary</th>\n",
       "      <th>search_term</th>\n",
       "      <th>symptoms_note</th>\n",
       "    </tr>\n",
       "  </thead>\n",
       "  <tbody>\n",
       "    <tr>\n",
       "      <th>0</th>\n",
       "      <td>{\"diseases\": [], \"procedures\": [], \"no_symptom...</td>\n",
       "      <td>มีเสมหะ, ไอ</td>\n",
       "      <td>ลักษณะ เสมหะเปลี่ยนสีเหลือง/เขียว, ระยะเวลา ไม...</td>\n",
       "    </tr>\n",
       "    <tr>\n",
       "      <th>1</th>\n",
       "      <td>{\"diseases\": [], \"procedures\": [], \"no_symptom...</td>\n",
       "      <td>ไอ, น้ำมูกไหล</td>\n",
       "      <td>ระยะเวลา 1-3 สัปดาห์, ลักษณะ ไอไม่มีเสมหะ ไอแห...</td>\n",
       "    </tr>\n",
       "    <tr>\n",
       "      <th>2</th>\n",
       "      <td>{\"diseases\": [], \"procedures\": [], \"no_symptom...</td>\n",
       "      <td>ปวดท้อง</td>\n",
       "      <td>บริเวณ รอบๆสะดือ, ระยะเวลา ตั้งแต่ 1 วัน ถึง 1...</td>\n",
       "    </tr>\n",
       "    <tr>\n",
       "      <th>3</th>\n",
       "      <td>{\"diseases\": [], \"procedures\": [], \"no_symptom...</td>\n",
       "      <td>น้ำมูกไหล</td>\n",
       "      <td>ระยะเวลา น้อยกว่า 10 วัน, ประวัติ ATK ยังไม่ได...</td>\n",
       "    </tr>\n",
       "    <tr>\n",
       "      <th>4</th>\n",
       "      <td>{\"diseases\": [], \"procedures\": [], \"no_symptom...</td>\n",
       "      <td>ตาแห้ง</td>\n",
       "      <td>การรักษาก่อนหน้า ไม่เคย</td>\n",
       "    </tr>\n",
       "  </tbody>\n",
       "</table>\n",
       "</div>"
      ],
      "text/plain": [
       "                                             summary    search_term  \\\n",
       "0  {\"diseases\": [], \"procedures\": [], \"no_symptom...    มีเสมหะ, ไอ   \n",
       "1  {\"diseases\": [], \"procedures\": [], \"no_symptom...  ไอ, น้ำมูกไหล   \n",
       "2  {\"diseases\": [], \"procedures\": [], \"no_symptom...        ปวดท้อง   \n",
       "3  {\"diseases\": [], \"procedures\": [], \"no_symptom...      น้ำมูกไหล   \n",
       "4  {\"diseases\": [], \"procedures\": [], \"no_symptom...         ตาแห้ง   \n",
       "\n",
       "                                       symptoms_note  \n",
       "0  ลักษณะ เสมหะเปลี่ยนสีเหลือง/เขียว, ระยะเวลา ไม...  \n",
       "1  ระยะเวลา 1-3 สัปดาห์, ลักษณะ ไอไม่มีเสมหะ ไอแห...  \n",
       "2  บริเวณ รอบๆสะดือ, ระยะเวลา ตั้งแต่ 1 วัน ถึง 1...  \n",
       "3  ระยะเวลา น้อยกว่า 10 วัน, ประวัติ ATK ยังไม่ได...  \n",
       "4                            การรักษาก่อนหน้า ไม่เคย  "
      ]
     },
     "execution_count": 8,
     "metadata": {},
     "output_type": "execute_result"
    }
   ],
   "source": [
    "Symptoms.head()"
   ]
  },
  {
   "cell_type": "code",
   "execution_count": 9,
   "id": "8b32d2d9",
   "metadata": {},
   "outputs": [],
   "source": [
    "# Define dictionaries\n",
    "relevant_keywords = [\n",
    "    # English\n",
    "    \"cough\", \"sputum\", \"phlegm\", \"pain\", \"numbness\", \"weakness\", \"severity\", \"location\",\n",
    "    \"fever\", \"headache\", \"dizziness\", \"sore throat\", \"fatigue\",\n",
    "    # Thai\n",
    "    \"ลักษณะ\", \"ไอ\", \"เสมหะ\", \"ปวด\", \"ชาปลายมือ\", \"ชาปลายเท้า\", \"อ่อนแรง\", \"ไข้\", \"เวียนหัว\", \"เจ็บคอ\", \"เหนื่อย\"\n",
    "]\n",
    "\n",
    "irrelevant_keywords = [\n",
    "    # English\n",
    "    \"history\", \"previous treatment\", \"atk\", \"covid\", \"test\", \"close contact\",\n",
    "    # Thai\n",
    "    \"ประวัติ\", \"การรักษาก่อนหน้า\", \"ระยะเวลา\", \"ใกล้ชิด\"\n",
    "]\n",
    "\n",
    "_splitter = re.compile(r\"[.;:\\-\\n]+\")"
   ]
  },
  {
   "cell_type": "markdown",
   "id": "67010ce9",
   "metadata": {},
   "source": [
    "def clean_text(text: str):\n",
    "    \"\"\"Return only symptom-relevant chunks from mixed Thai/English notes.\"\"\"\n",
    "    if pd.isna(text) or not str(text).strip():\n",
    "        return pd.NA\n",
    "    text = str(text)\n",
    "\n",
    "    chunks = _splitter.split(text)\n",
    "    kept = []\n",
    "    seen = set()\n",
    "\n",
    "    for raw in chunks:\n",
    "        c = raw.strip()\n",
    "        if not c:\n",
    "            continue\n",
    "        # drop clearly irrelevant chunks\n",
    "        if any(k in c.lower() for k in (w.lower() for w in irrelevant_keywords)):\n",
    "            continue\n",
    "        # keep chunks that mention symptom-relevant concepts\n",
    "        if any(k in c.lower() for k in (w.lower() for w in relevant_keywords)):\n",
    "            if c not in seen:\n",
    "                seen.add(c)\n",
    "                kept.append(c)\n",
    "\n",
    "    if not kept:\n",
    "        return pd.NA\n",
    "    return \" \".join(kept)  # join chunks with spaces\n",
    "\n",
    "# --- apply to your dataframe ---\n",
    "Symptoms[\"symptoms_note_clean\"] = Symptoms[\"symptoms_note\"].apply(clean_text)"
   ]
  },
  {
   "cell_type": "code",
   "execution_count": 10,
   "id": "9fa1d39e",
   "metadata": {},
   "outputs": [],
   "source": [
    "def clean_text(text: str):\n",
    "    \"\"\"Return only symptom-relevant chunks from mixed Thai/English notes.\"\"\"\n",
    "    if pd.isna(text) or not str(text).strip():\n",
    "        return pd.NA\n",
    "    text = str(text)\n",
    "\n",
    "    chunks = _splitter.split(text)\n",
    "    kept = []\n",
    "    seen = set()\n",
    "\n",
    "    for raw in chunks:\n",
    "        c = raw.strip()\n",
    "        if not c:\n",
    "            continue\n",
    "        # drop clearly irrelevant chunks\n",
    "        if any(k in c.lower() for k in (w.lower() for w in irrelevant_keywords)):\n",
    "            continue\n",
    "        # keep chunks that mention symptom-relevant concepts\n",
    "        if any(k in c.lower() for k in (w.lower() for w in relevant_keywords)):\n",
    "            if c not in seen:\n",
    "                seen.add(c)\n",
    "                kept.append(c)\n",
    "\n",
    "    if not kept:\n",
    "        return pd.NA\n",
    "    return \" \".join(kept)  # join chunks with spaces\n",
    "\n",
    "# --- apply to your dataframe ---\n",
    "Symptoms[\"symptoms_note_clean\"] = Symptoms[\"symptoms_note\"].apply(clean_text)"
   ]
  },
  {
   "cell_type": "code",
   "execution_count": 11,
   "id": "85d24f75",
   "metadata": {},
   "outputs": [
    {
     "data": {
      "text/html": [
       "<div>\n",
       "<style scoped>\n",
       "    .dataframe tbody tr th:only-of-type {\n",
       "        vertical-align: middle;\n",
       "    }\n",
       "\n",
       "    .dataframe tbody tr th {\n",
       "        vertical-align: top;\n",
       "    }\n",
       "\n",
       "    .dataframe thead th {\n",
       "        text-align: right;\n",
       "    }\n",
       "</style>\n",
       "<table border=\"1\" class=\"dataframe\">\n",
       "  <thead>\n",
       "    <tr style=\"text-align: right;\">\n",
       "      <th></th>\n",
       "      <th>summary</th>\n",
       "      <th>search_term</th>\n",
       "      <th>symptoms_note</th>\n",
       "      <th>symptoms_note_clean</th>\n",
       "    </tr>\n",
       "  </thead>\n",
       "  <tbody>\n",
       "    <tr>\n",
       "      <th>0</th>\n",
       "      <td>{\"diseases\": [], \"procedures\": [], \"no_symptom...</td>\n",
       "      <td>มีเสมหะ, ไอ</td>\n",
       "      <td>ลักษณะ เสมหะเปลี่ยนสีเหลือง/เขียว, ระยะเวลา ไม...</td>\n",
       "      <td>&lt;NA&gt;</td>\n",
       "    </tr>\n",
       "    <tr>\n",
       "      <th>1</th>\n",
       "      <td>{\"diseases\": [], \"procedures\": [], \"no_symptom...</td>\n",
       "      <td>ไอ, น้ำมูกไหล</td>\n",
       "      <td>ระยะเวลา 1-3 สัปดาห์, ลักษณะ ไอไม่มีเสมหะ ไอแห...</td>\n",
       "      <td>&lt;NA&gt;</td>\n",
       "    </tr>\n",
       "    <tr>\n",
       "      <th>2</th>\n",
       "      <td>{\"diseases\": [], \"procedures\": [], \"no_symptom...</td>\n",
       "      <td>ปวดท้อง</td>\n",
       "      <td>บริเวณ รอบๆสะดือ, ระยะเวลา ตั้งแต่ 1 วัน ถึง 1...</td>\n",
       "      <td>&lt;NA&gt;</td>\n",
       "    </tr>\n",
       "    <tr>\n",
       "      <th>3</th>\n",
       "      <td>{\"diseases\": [], \"procedures\": [], \"no_symptom...</td>\n",
       "      <td>น้ำมูกไหล</td>\n",
       "      <td>ระยะเวลา น้อยกว่า 10 วัน, ประวัติ ATK ยังไม่ได...</td>\n",
       "      <td>&lt;NA&gt;</td>\n",
       "    </tr>\n",
       "    <tr>\n",
       "      <th>4</th>\n",
       "      <td>{\"diseases\": [], \"procedures\": [], \"no_symptom...</td>\n",
       "      <td>ตาแห้ง</td>\n",
       "      <td>การรักษาก่อนหน้า ไม่เคย</td>\n",
       "      <td>&lt;NA&gt;</td>\n",
       "    </tr>\n",
       "  </tbody>\n",
       "</table>\n",
       "</div>"
      ],
      "text/plain": [
       "                                             summary    search_term  \\\n",
       "0  {\"diseases\": [], \"procedures\": [], \"no_symptom...    มีเสมหะ, ไอ   \n",
       "1  {\"diseases\": [], \"procedures\": [], \"no_symptom...  ไอ, น้ำมูกไหล   \n",
       "2  {\"diseases\": [], \"procedures\": [], \"no_symptom...        ปวดท้อง   \n",
       "3  {\"diseases\": [], \"procedures\": [], \"no_symptom...      น้ำมูกไหล   \n",
       "4  {\"diseases\": [], \"procedures\": [], \"no_symptom...         ตาแห้ง   \n",
       "\n",
       "                                       symptoms_note symptoms_note_clean  \n",
       "0  ลักษณะ เสมหะเปลี่ยนสีเหลือง/เขียว, ระยะเวลา ไม...                <NA>  \n",
       "1  ระยะเวลา 1-3 สัปดาห์, ลักษณะ ไอไม่มีเสมหะ ไอแห...                <NA>  \n",
       "2  บริเวณ รอบๆสะดือ, ระยะเวลา ตั้งแต่ 1 วัน ถึง 1...                <NA>  \n",
       "3  ระยะเวลา น้อยกว่า 10 วัน, ประวัติ ATK ยังไม่ได...                <NA>  \n",
       "4                            การรักษาก่อนหน้า ไม่เคย                <NA>  "
      ]
     },
     "execution_count": 11,
     "metadata": {},
     "output_type": "execute_result"
    }
   ],
   "source": [
    "Symptoms.head()"
   ]
  },
  {
   "cell_type": "code",
   "execution_count": 12,
   "id": "b80c4ce9",
   "metadata": {},
   "outputs": [
    {
     "name": "stdout",
     "output_type": "stream",
     "text": [
      "<class 'pandas.core.frame.DataFrame'>\n",
      "RangeIndex: 1000 entries, 0 to 999\n",
      "Data columns (total 4 columns):\n",
      " #   Column               Non-Null Count  Dtype \n",
      "---  ------               --------------  ----- \n",
      " 0   summary              1000 non-null   object\n",
      " 1   search_term          1000 non-null   object\n",
      " 2   symptoms_note        1000 non-null   object\n",
      " 3   symptoms_note_clean  112 non-null    object\n",
      "dtypes: object(4)\n",
      "memory usage: 31.4+ KB\n"
     ]
    }
   ],
   "source": [
    "Symptoms.info()"
   ]
  },
  {
   "cell_type": "code",
   "execution_count": 13,
   "id": "971c686e",
   "metadata": {},
   "outputs": [],
   "source": [
    "data.drop(['summary', 'symptoms_note'], axis=1, inplace=True)"
   ]
  },
  {
   "cell_type": "code",
   "execution_count": 14,
   "id": "6fae00b9",
   "metadata": {},
   "outputs": [],
   "source": [
    "# Keep only rows where 'symptoms_note_clean' is not missing\n",
    "df_filtered = Symptoms.dropna(subset=['symptoms_note_clean'])"
   ]
  },
  {
   "cell_type": "code",
   "execution_count": 15,
   "id": "a80e957c",
   "metadata": {},
   "outputs": [],
   "source": [
    "# If you want to ensure type stability (e.g., strings), you can further filter out empty strings after the drop:\n",
    "df_filtered = df_filtered[df_filtered['symptoms_note_clean'].astype(str).str.strip() != '']"
   ]
  },
  {
   "cell_type": "code",
   "execution_count": 16,
   "id": "f0d74faf",
   "metadata": {},
   "outputs": [
    {
     "name": "stdout",
     "output_type": "stream",
     "text": [
      "<class 'pandas.core.frame.DataFrame'>\n",
      "Int64Index: 112 entries, 12 to 998\n",
      "Data columns (total 2 columns):\n",
      " #   Column               Non-Null Count  Dtype \n",
      "---  ------               --------------  ----- \n",
      " 0   search_term          112 non-null    object\n",
      " 1   symptoms_note_clean  112 non-null    object\n",
      "dtypes: object(2)\n",
      "memory usage: 2.6+ KB\n"
     ]
    }
   ],
   "source": [
    "df_filtered.info()"
   ]
  },
  {
   "cell_type": "code",
   "execution_count": 17,
   "id": "e1647682",
   "metadata": {},
   "outputs": [
    {
     "data": {
      "text/html": [
       "<div>\n",
       "<style scoped>\n",
       "    .dataframe tbody tr th:only-of-type {\n",
       "        vertical-align: middle;\n",
       "    }\n",
       "\n",
       "    .dataframe tbody tr th {\n",
       "        vertical-align: top;\n",
       "    }\n",
       "\n",
       "    .dataframe thead th {\n",
       "        text-align: right;\n",
       "    }\n",
       "</style>\n",
       "<table border=\"1\" class=\"dataframe\">\n",
       "  <thead>\n",
       "    <tr style=\"text-align: right;\">\n",
       "      <th></th>\n",
       "      <th>search_term</th>\n",
       "      <th>symptoms_note_clean</th>\n",
       "    </tr>\n",
       "  </thead>\n",
       "  <tbody>\n",
       "    <tr>\n",
       "      <th>12</th>\n",
       "      <td>เสมหะไหลลงคอ, มีเสมหะ</td>\n",
       "      <td>ลักษณะ เสมหะเปลี่ยนสีเหลือง/เขียว</td>\n",
       "    </tr>\n",
       "    <tr>\n",
       "      <th>15</th>\n",
       "      <td>บวม, ปวดข้อเท้า</td>\n",
       "      <td>ตำแหน่ง บวมที่ข้อ เช่น ข้อเข่า ข้อเท้า, ระดับ ...</td>\n",
       "    </tr>\n",
       "    <tr>\n",
       "      <th>23</th>\n",
       "      <td>หายใจมีเสียงวี๊ด, หายใจหอบเหนื่อย</td>\n",
       "      <td>ระดับ เหนื่อยเล็กน้อย เหนื่อยง่ายขึ้นเวลาออกแร...</td>\n",
       "    </tr>\n",
       "    <tr>\n",
       "      <th>31</th>\n",
       "      <td>ปวดหัว, ชา</td>\n",
       "      <td>ระดับ ปวดเล็กน้อย ส่งผลต่อการดำเนินกิจวัตรประจ...</td>\n",
       "    </tr>\n",
       "    <tr>\n",
       "      <th>44</th>\n",
       "      <td>ไข้, ไอ</td>\n",
       "      <td>3 วัน, ระดับ ไข้ปานกลาง (38</td>\n",
       "    </tr>\n",
       "  </tbody>\n",
       "</table>\n",
       "</div>"
      ],
      "text/plain": [
       "                          search_term  \\\n",
       "12              เสมหะไหลลงคอ, มีเสมหะ   \n",
       "15                    บวม, ปวดข้อเท้า   \n",
       "23  หายใจมีเสียงวี๊ด, หายใจหอบเหนื่อย   \n",
       "31                         ปวดหัว, ชา   \n",
       "44                            ไข้, ไอ   \n",
       "\n",
       "                                  symptoms_note_clean  \n",
       "12                  ลักษณะ เสมหะเปลี่ยนสีเหลือง/เขียว  \n",
       "15  ตำแหน่ง บวมที่ข้อ เช่น ข้อเข่า ข้อเท้า, ระดับ ...  \n",
       "23  ระดับ เหนื่อยเล็กน้อย เหนื่อยง่ายขึ้นเวลาออกแร...  \n",
       "31  ระดับ ปวดเล็กน้อย ส่งผลต่อการดำเนินกิจวัตรประจ...  \n",
       "44                        3 วัน, ระดับ ไข้ปานกลาง (38  "
      ]
     },
     "execution_count": 17,
     "metadata": {},
     "output_type": "execute_result"
    }
   ],
   "source": [
    "df_filtered.head()"
   ]
  },
  {
   "cell_type": "code",
   "execution_count": 18,
   "id": "8d5ebcdb",
   "metadata": {},
   "outputs": [],
   "source": [
    "table_name = 'df_filtered'\n",
    "conn = sqlite3.connect('AI_Symptomps_Note.db')  # inline path\n",
    "df_filtered.to_sql(table_name, conn, if_exists='replace', index=False)\n",
    "conn.close()"
   ]
  }
 ],
 "metadata": {
  "kernelspec": {
   "display_name": "Symptoms_Recoomendation",
   "language": "python",
   "name": "python3"
  },
  "language_info": {
   "codemirror_mode": {
    "name": "ipython",
    "version": 3
   },
   "file_extension": ".py",
   "mimetype": "text/x-python",
   "name": "python",
   "nbconvert_exporter": "python",
   "pygments_lexer": "ipython3",
   "version": "3.11.13"
  }
 },
 "nbformat": 4,
 "nbformat_minor": 5
}
